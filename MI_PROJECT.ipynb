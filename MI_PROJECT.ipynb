{
 "cells": [
  {
   "cell_type": "code",
   "execution_count": null,
   "id": "229106aa-a0ac-4c84-a5ad-adfe706540db",
   "metadata": {},
   "outputs": [
    {
     "name": "stdout",
     "output_type": "stream",
     "text": [
      "<class 'pandas.core.frame.DataFrame'>\n",
      "RangeIndex: 2576 entries, 0 to 2575\n",
      "Columns: 2001 entries, 0 to Label\n",
      "dtypes: float64(2000), object(1)\n",
      "memory usage: 39.3+ MB\n",
      "None\n",
      "          0         1         2         3         4         5         6  \\\n",
      "0 -0.015552  0.016963  0.013575  0.027204  0.068154  0.129259  0.127915   \n",
      "1  0.002323  0.002754  0.022539  0.228807  0.107751  0.034439  0.086007   \n",
      "2  0.050481 -0.339781  0.265111  0.045092  0.040086  0.087173  0.092814   \n",
      "3  0.023882  0.016561  0.248547  0.054567  0.128032  0.085954  0.107359   \n",
      "4 -0.058591  0.171551  0.057262  0.270869  0.138357  0.078509  0.062504   \n",
      "\n",
      "          7         8         9  ...      1991      1992      1993      1994  \\\n",
      "0  0.345174  0.197811  0.167651  ... -0.426464 -0.346976 -0.132168 -0.252098   \n",
      "1  0.155667  0.163327  0.223759  ... -0.169345 -0.356808 -0.338996 -0.292489   \n",
      "2  0.099586 -0.143305  0.164186  ... -0.401426 -0.402333 -0.373426 -0.303710   \n",
      "3  0.207137  0.174547 -0.100118  ... -0.390700 -0.353882 -0.294014 -0.267005   \n",
      "4  0.104447  0.134795  0.194248  ... -0.391598 -0.334490 -0.326873 -0.249881   \n",
      "\n",
      "       1995      1996      1997      1998      1999  Label  \n",
      "0 -0.241969 -0.134235 -0.091327 -0.081713 -0.057693     MI  \n",
      "1 -0.152872 -0.156076 -0.103265 -0.041579 -0.044272     MI  \n",
      "2  0.008599 -0.180633 -0.143135 -0.084758  0.060668     MI  \n",
      "3 -0.242258 -0.186946 -0.173718  0.101331  0.063555     MI  \n",
      "4 -0.210052 -0.194763 -0.415365  0.015432  0.010321     MI  \n",
      "\n",
      "[5 rows x 2001 columns]\n"
     ]
    }
   ],
   "source": [
    "import pandas as pd\n",
    "\n",
    "#Load raw PPG dataset\n",
    "file_path = \"PPG_Dataset.csv\"  \n",
    "df = pd.read_csv(file_path)\n",
    "\n",
    "#Show basic info and a few rows\n",
    "print(df.info())\n",
    "print(df.head())\n"
   ]
  },
  {
   "cell_type": "code",
   "execution_count": null,
   "id": "d4af2728-1d39-449a-b113-ae743e515bd0",
   "metadata": {},
   "outputs": [],
   "source": [
    "import pandas as pd\n",
    "import numpy as np\n",
    "from scipy.signal import butter, filtfilt\n",
    "import pywt  "
   ]
  },
  {
   "cell_type": "code",
   "execution_count": 9,
   "id": "f1eeb501-f936-4f20-bd89-c93163bf0990",
   "metadata": {},
   "outputs": [],
   "source": [
    "# Separate signals and labels\n",
    "X_raw = df.drop(columns=['Label']).values\n",
    "y = df['Label'].values"
   ]
  },
  {
   "cell_type": "code",
   "execution_count": null,
   "id": "a6b9a514-2e73-4699-bd1d-37e0d07c509a",
   "metadata": {},
   "outputs": [
    {
     "name": "stdout",
     "output_type": "stream",
     "text": [
      "          0         1         2         3         4         5         6  \\\n",
      "0 -0.100787 -0.089354 -0.070646 -0.049112 -0.027846 -0.012790 -0.001084   \n",
      "1 -0.086195 -0.076472 -0.060655 -0.042390 -0.024348 -0.011621 -0.001777   \n",
      "2 -0.104214 -0.104316 -0.103408 -0.101159 -0.097810 -0.093809 -0.088429   \n",
      "3 -0.061735 -0.058045 -0.051712 -0.043310 -0.034243 -0.026986 -0.020093   \n",
      "4 -0.082395 -0.069895 -0.049607 -0.027041 -0.005327  0.009354  0.019858   \n",
      "\n",
      "          7         8         9  ...      1991      1992      1993      1994  \\\n",
      "0  0.013489  0.027770  0.040623  ... -0.247648 -0.214584 -0.181719 -0.149433   \n",
      "1  0.010404  0.022234  0.032752  ... -0.246439 -0.208430 -0.172750 -0.139207   \n",
      "2 -0.080780 -0.070704 -0.057733  ... -0.333118 -0.297626 -0.258332 -0.216378   \n",
      "3 -0.011215 -0.001299  0.009620  ... -0.332811 -0.299347 -0.262005 -0.221873   \n",
      "4  0.032894  0.044970  0.054666  ... -0.325377 -0.292447 -0.255882 -0.216701   \n",
      "\n",
      "       1995      1996      1997      1998      1999  Label  \n",
      "0 -0.118103 -0.088529 -0.061265 -0.037901 -0.020545     MI  \n",
      "1 -0.107099 -0.077072 -0.049080 -0.024946 -0.007627     MI  \n",
      "2 -0.173569 -0.131014 -0.090160 -0.054107 -0.026455     MI  \n",
      "3 -0.180185 -0.138067 -0.097056 -0.060407 -0.032213     MI  \n",
      "4 -0.176423 -0.136077 -0.097001 -0.062284 -0.035650     MI  \n",
      "\n",
      "[5 rows x 2001 columns]\n"
     ]
    }
   ],
   "source": [
    "# Step 1: Band-pass Filter (0.5–4 Hz)\n",
    "def bandpass_filter(data, lowcut=0.5, highcut=4.0, fs=100.0, order=4):\n",
    "    nyq = 0.5 * fs\n",
    "    low = lowcut / nyq\n",
    "    high = highcut / nyq\n",
    "    b, a = butter(order, [low, high], btype='band')\n",
    "    return filtfilt(b, a, data)\n",
    "\n",
    "filtered_signals = np.array([bandpass_filter(row) for row in X_raw])\n",
    "\n",
    "# Step 2: Wavelet Denoising\n",
    "def wavelet_denoise(signal, wavelet='db6', level=3):\n",
    "    coeff = pywt.wavedec(signal, wavelet, level=level)\n",
    "    sigma = np.median(np.abs(coeff[-level])) / 0.6745\n",
    "    uthresh = sigma * np.sqrt(2 * np.log(len(signal)))\n",
    "    denoised_coeffs = coeff[:]\n",
    "    denoised_coeffs[1:] = [pywt.threshold(i, value=uthresh, mode='soft') for i in denoised_coeffs[1:]]\n",
    "    return pywt.waverec(denoised_coeffs, wavelet)\n",
    "\n",
    "# Apply wavelet denoising\n",
    "filtered_denoised_signals = np.array([wavelet_denoise(sig)[:X_raw.shape[1]] for sig in filtered_signals])\n",
    "\n",
    "# Final preprocessed dataframe\n",
    "df_preprocessed = pd.DataFrame(filtered_denoised_signals)\n",
    "df_preprocessed['Label'] = y\n",
    "\n",
    "# Preview\n",
    "print(df_preprocessed.head())"
   ]
  },
  {
   "cell_type": "code",
   "execution_count": null,
   "id": "6774ceb5-22bd-4273-9ad3-2964af5f9d52",
   "metadata": {},
   "outputs": [
    {
     "name": "stdout",
     "output_type": "stream",
     "text": [
      "Segmented data shape: (5152, 1000)\n",
      "Segmented labels shape: (5152,)\n"
     ]
    }
   ],
   "source": [
    "# df_preprocessed has signal rows and 'Label'\n",
    "signals = df_preprocessed.drop(columns=['Label']).values\n",
    "labels = df_preprocessed['Label'].values\n",
    "\n",
    "# Parameters\n",
    "window_size = 1000  \n",
    "segmented_signals = []\n",
    "segmented_labels = []\n",
    "\n",
    "for signal, label in zip(signals, labels):\n",
    "    total_len = len(signal)\n",
    "    num_windows = total_len // window_size  # how many full windows we can get\n",
    "    for i in range(num_windows):\n",
    "        start = i * window_size\n",
    "        end = start + window_size\n",
    "        segment = signal[start:end]\n",
    "        segmented_signals.append(segment)\n",
    "        segmented_labels.append(label)\n",
    "\n",
    "# Convert to arrays\n",
    "X_segmented = np.array(segmented_signals)\n",
    "y_segmented = np.array(segmented_labels)\n",
    "\n",
    "# Shape confirmation\n",
    "print(\"Segmented data shape:\", X_segmented.shape)\n",
    "print(\"Segmented labels shape:\", y_segmented.shape)"
   ]
  },
  {
   "cell_type": "code",
   "execution_count": 12,
   "id": "de078382-11a6-48fd-b167-87884d12c3a4",
   "metadata": {},
   "outputs": [
    {
     "name": "stdout",
     "output_type": "stream",
     "text": [
      "Normalized data shape: (5152, 1000)\n",
      "Sample mean: 7.105427357601002e-18\n",
      "Sample std: 1.0\n"
     ]
    }
   ],
   "source": [
    "from sklearn.preprocessing import StandardScaler\n",
    "\n",
    "# Initialize scaler\n",
    "scaler = StandardScaler()\n",
    "\n",
    "# Apply scaler row-wise using list comprehension\n",
    "X_normalized = np.array([scaler.fit_transform(x.reshape(-1, 1)).flatten() for x in X_segmented])\n",
    "\n",
    "# Check shape and stats\n",
    "print(\"Normalized data shape:\", X_normalized.shape)\n",
    "print(\"Sample mean:\", np.mean(X_normalized[0]))\n",
    "print(\"Sample std:\", np.std(X_normalized[0]))"
   ]
  },
  {
   "cell_type": "code",
   "execution_count": null,
   "id": "37a49afa-17b0-4c6e-abf7-58efaa895ca5",
   "metadata": {},
   "outputs": [
    {
     "name": "stdout",
     "output_type": "stream",
     "text": [
      "Entropy feature shape: (5152, 4)\n",
      "Sample (PE, RPE, DE, RDE): [1.23233768 1.23233768 0.37005136 0.37005136]\n"
     ]
    }
   ],
   "source": [
    "import numpy as np\n",
    "import math\n",
    "from scipy.stats import zscore\n",
    "\n",
    "def dispersion_entropy(sig, m=3, c=6, tau=1, normalize=True):\n",
    "    N = len(sig)\n",
    "    sig = zscore(sig)  # z-score normalization\n",
    "    max_val = np.max(sig)\n",
    "    min_val = np.min(sig)\n",
    "    bins = np.linspace(min_val, max_val, c + 1)\n",
    "\n",
    "    # Quantize signal\n",
    "    quantized = np.digitize(sig, bins) - 1\n",
    "    quantized[quantized == c] = c - 1  # Fix upper limit\n",
    "\n",
    "    patterns = []\n",
    "    for i in range(N - (m - 1) * tau):\n",
    "        pattern = tuple(quantized[i + j * tau] for j in range(m))\n",
    "        patterns.append(pattern)\n",
    "\n",
    "    unique, counts = np.unique(patterns, axis=0, return_counts=True)\n",
    "    probs = counts / counts.sum()\n",
    "    entropy = -np.sum(probs * np.log2(probs))\n",
    "\n",
    "    if normalize:\n",
    "        entropy = entropy / np.log2(c ** m)\n",
    "\n",
    "    return entropy\n",
    "\n",
    "# Feature extraction from segments\n",
    "def extract_entropy_features_custom(segments):\n",
    "    features = []\n",
    "    for seg in segments:\n",
    "        pe = ant.perm_entropy(seg)\n",
    "        rpe = ant.perm_entropy(seg[::-1])\n",
    "        de = dispersion_entropy(seg, m=3, c=6)\n",
    "        rde = dispersion_entropy(seg[::-1], m=3, c=6)\n",
    "        features.append([pe, rpe, de, rde])\n",
    "    return np.array(features)\n",
    "\n",
    "# Apply on normalized segments\n",
    "X_entropy = extract_entropy_features_custom(X_normalized)\n",
    "\n",
    "# Output\n",
    "print(\"Entropy feature shape:\", X_entropy.shape)\n",
    "print(\"Sample (PE, RPE, DE, RDE):\", X_entropy[0])"
   ]
  },
  {
   "cell_type": "code",
   "execution_count": 14,
   "id": "dd6ea25b-83ea-4be5-9fd8-a362eedf9cb0",
   "metadata": {},
   "outputs": [
    {
     "name": "stdout",
     "output_type": "stream",
     "text": [
      "✅ Shape of feature matrix: (2576, 17)\n",
      "✅ Sample Time-Domain Features (First Row): [ 0.01557873  0.43901009 -0.08941497 -1.42704009  0.43928641]\n",
      "✅ Sample Frequency-Domain Features (First Row): [ 31.15745959 117.80290503  72.92126505 186.29955527  67.899132\n",
      " 273.05208008  35.46768174 148.27278135 161.15062881  63.02708417\n",
      "   0.30857182  16.74076723]\n",
      "✅ Sample Combined Feature Row (First Row): [ 1.55787298e-02  4.39010087e-01 -8.94149668e-02 -1.42704009e+00\n",
      "  4.39286414e-01  3.11574596e+01  1.17802905e+02  7.29212650e+01\n",
      "  1.86299555e+02  6.78991320e+01  2.73052080e+02  3.54676817e+01\n",
      "  1.48272781e+02  1.61150629e+02  6.30270842e+01  3.08571823e-01\n",
      "  1.67407672e+01]\n",
      "✅ Labels (first 10): [1 1 1 1 1 1 1 1 1 1]\n"
     ]
    }
   ],
   "source": [
    "import pandas as pd\n",
    "import numpy as np\n",
    "from scipy.stats import skew, kurtosis\n",
    "from scipy.signal import welch\n",
    "from scipy.fft import fft\n",
    "\n",
    "# Load the dataset\n",
    "df = pd.read_csv('PPG_Dataset.csv')\n",
    "\n",
    "# Separate signal and labels\n",
    "signals = df.iloc[:, :-1].values\n",
    "labels = df['Label'].values\n",
    "\n",
    "# Initialize lists to store features\n",
    "time_features = []\n",
    "freq_features = []\n",
    "\n",
    "# Loop through each signal row to extract features\n",
    "for signal in signals:\n",
    "    # Time-domain features\n",
    "    mean_val = np.mean(signal)\n",
    "    std_val = np.std(signal)\n",
    "    skew_val = skew(signal)\n",
    "    kurt_val = kurtosis(signal)\n",
    "    rms_val = np.sqrt(np.mean(signal**2))\n",
    "    time_features.append([mean_val, std_val, skew_val, kurt_val, rms_val])\n",
    "\n",
    "    # Frequency-domain features\n",
    "    fft_vals = np.abs(fft(signal))\n",
    "    fft_features = fft_vals[:10]  # First 10 FFT coefficients\n",
    "\n",
    "    # Power Spectral Density (PSD)\n",
    "    f, psd = welch(signal)\n",
    "    psd_mean = np.mean(psd)\n",
    "    psd_max = np.max(psd)\n",
    "    freq_features.append(np.concatenate([fft_features, [psd_mean, psd_max]]))\n",
    "\n",
    "# Convert to arrays\n",
    "time_features = np.array(time_features)\n",
    "freq_features = np.array(freq_features)\n",
    "\n",
    "# Combine time + frequency domain features\n",
    "X_additional = np.hstack((time_features, freq_features))\n",
    "\n",
    "# Convert labels to 0 (Normal) and 1 (MI)\n",
    "y = np.array([0 if label == 'Normal' else 1 for label in labels])\n",
    "\n",
    "# Display outputs\n",
    "print(\"✅ Shape of feature matrix:\", X_additional.shape)\n",
    "print(\"✅ Sample Time-Domain Features (First Row):\", time_features[0])\n",
    "print(\"✅ Sample Frequency-Domain Features (First Row):\", freq_features[0])\n",
    "print(\"✅ Sample Combined Feature Row (First Row):\", X_additional[0])\n",
    "print(\"✅ Labels (first 10):\", y[:10])"
   ]
  },
  {
   "cell_type": "code",
   "execution_count": 56,
   "id": "af27d8c5-de9a-4c2c-8e2d-e25f1e20cfae",
   "metadata": {},
   "outputs": [
    {
     "name": "stdout",
     "output_type": "stream",
     "text": [
      "Original Label Distribution: Counter({np.int64(1): 1294, np.int64(0): 1282})\n",
      "✅ Balanced Label Distribution: Counter({np.int64(1): 1294, np.int64(0): 1294})\n"
     ]
    },
    {
     "data": {
      "image/png": "[encoded data removed]",
      "text/plain": [
       "<Figure size 640x480 with 1 Axes>"
      ]
     },
     "metadata": {},
     "output_type": "display_data"
    }
   ],
   "source": [
    "from sklearn.utils import resample\n",
    "from collections import Counter\n",
    "import matplotlib.pyplot as plt\n",
    "import numpy as np\n",
    "\n",
    "# Check original distribution\n",
    "print(\"Original Label Distribution:\", Counter(y))\n",
    "\n",
    "# Separate majority and minority classes\n",
    "X_majority = X_additional[y == 0]\n",
    "X_minority = X_additional[y == 1]\n",
    "\n",
    "# If minority class is class 0, flip the variables\n",
    "if len(X_majority) < len(X_minority):\n",
    "    X_majority, X_minority = X_minority, X_majority\n",
    "    y_majority = [1] * len(X_majority)\n",
    "    y_minority = [0] * len(X_minority)\n",
    "else:\n",
    "    y_majority = [0] * len(X_majority)\n",
    "    y_minority = [1] * len(X_minority)\n",
    "\n",
    "# Upsample the minority class\n",
    "X_minority_upsampled = resample(X_minority,\n",
    "                                replace=True,\n",
    "                                n_samples=len(X_majority),\n",
    "                                random_state=42)\n",
    "\n",
    "# Combine majority and upsampled minority\n",
    "X_balanced = np.vstack((X_majority, X_minority_upsampled))\n",
    "y_balanced = np.array(y_majority + [y_minority[0]] * len(X_minority_upsampled))\n",
    "\n",
    "# Check new distribution\n",
    "from collections import Counter\n",
    "print(\"✅ Balanced Label Distribution:\", Counter(y_balanced))\n",
    "\n",
    "# Plot the balanced class distribution\n",
    "plt.bar(['Normal', 'MI'], [Counter(y_balanced)[0], Counter(y_balanced)[1]], color=['blue', 'orange'])\n",
    "plt.title(\"Label Distribution After Balancing (Upsampling)\")\n",
    "plt.ylabel(\"Count\")\n",
    "plt.show()"
   ]
  },
  {
   "cell_type": "code",
   "execution_count": 57,
   "id": "dd00ec8b-5175-4739-86fc-27fd53f62d72",
   "metadata": {},
   "outputs": [
    {
     "name": "stdout",
     "output_type": "stream",
     "text": [
      "✅ Scaled Feature Matrix Shape: (2588, 17)\n",
      "✅ First Row (Scaled): [ 0.89801136  0.73939115 -1.63897439  1.21767689  0.74134686  0.89801136\n",
      "  1.05990806  0.87213921  0.98395622  0.9781672   1.04638394 -1.08493665\n",
      " -1.06836589 -1.09211045 -1.03107643 -1.06250394 -1.05083687]\n",
      "✅ Mean (approx): [-0.  0. -0. -0.  0.]\n",
      "✅ Std Dev (approx): [1. 1. 1. 1. 1.]\n"
     ]
    }
   ],
   "source": [
    "from sklearn.preprocessing import StandardScaler\n",
    "\n",
    "# Initialize StandardScaler\n",
    "scaler = StandardScaler()\n",
    "\n",
    "# Fit and transform the balanced features\n",
    "X_scaled = scaler.fit_transform(X_balanced)\n",
    "\n",
    "# Show a few samples\n",
    "print(\"✅ Scaled Feature Matrix Shape:\", X_scaled.shape)\n",
    "print(\"✅ First Row (Scaled):\", X_scaled[0])\n",
    "print(\"✅ Mean (approx):\", np.round(X_scaled.mean(axis=0)[:5], 2))\n",
    "print(\"✅ Std Dev (approx):\", np.round(X_scaled.std(axis=0)[:5], 2))"
   ]
  },
  {
   "cell_type": "code",
   "execution_count": 58,
   "id": "7e22142d-6977-4ffa-a1c2-e05d0cbc46a7",
   "metadata": {},
   "outputs": [
    {
     "name": "stderr",
     "output_type": "stream",
     "text": [
      "C:\\Users\\Srishti\\AppData\\Roaming\\Python\\Python313\\site-packages\\xgboost\\training.py:183: UserWarning: [18:10:07] WARNING: C:\\actions-runner\\_work\\xgboost\\xgboost\\src\\learner.cc:738: \n",
      "Parameters: { \"use_label_encoder\" } are not used.\n",
      "\n",
      "  bst.update(dtrain, iteration=i, fobj=obj)\n"
     ]
    },
    {
     "name": "stdout",
     "output_type": "stream",
     "text": [
      "🔹 RandomForest\n",
      "   ✅ Best Accuracy: 0.9702\n",
      "   📌 Best Parameters: {'max_depth': None, 'n_estimators': 100}\n",
      "\n",
      "🔹 SVM\n",
      "   ✅ Best Accuracy: 0.9625\n",
      "   📌 Best Parameters: {'C': 0.1, 'kernel': 'rbf'}\n",
      "\n",
      "🔹 XGBoost\n",
      "   ✅ Best Accuracy: 0.9706\n",
      "   📌 Best Parameters: {'max_depth': 5, 'n_estimators': 100}\n",
      "\n",
      "🔹 LogisticRegression\n",
      "   ✅ Best Accuracy: 0.9625\n",
      "   📌 Best Parameters: {'C': 0.1}\n",
      "\n",
      "🔹 KNN\n",
      "   ✅ Best Accuracy: 0.9617\n",
      "   📌 Best Parameters: {'n_neighbors': 5}\n",
      "\n"
     ]
    }
   ],
   "source": [
    "from sklearn.model_selection import StratifiedKFold, GridSearchCV\n",
    "from sklearn.ensemble import RandomForestClassifier\n",
    "from sklearn.svm import SVC\n",
    "from xgboost import XGBClassifier\n",
    "from sklearn.linear_model import LogisticRegression\n",
    "from sklearn.neighbors import KNeighborsClassifier\n",
    "\n",
    "# 5.1 Stratified K-Fold Cross Validation\n",
    "cv = StratifiedKFold(n_splits=5, shuffle=True, random_state=42)\n",
    "\n",
    "# 5.2 Define classifiers and their hyperparameter grids\n",
    "models = {\n",
    "    'RandomForest': (RandomForestClassifier(), {\n",
    "        'n_estimators': [100, 200],\n",
    "        'max_depth': [None, 10]\n",
    "    }),\n",
    "    'SVM': (SVC(probability=True), {\n",
    "        'C': [0.1, 1],\n",
    "        'kernel': ['rbf', 'linear']\n",
    "    }),\n",
    "    'XGBoost': (XGBClassifier(use_label_encoder=False, eval_metric='logloss'), {\n",
    "        'n_estimators': [100],\n",
    "        'max_depth': [3, 5]\n",
    "    }),\n",
    "    'LogisticRegression': (LogisticRegression(max_iter=1000), {\n",
    "        'C': [0.1, 1, 10]\n",
    "    }),\n",
    "    'KNN': (KNeighborsClassifier(), {\n",
    "        'n_neighbors': [3, 5, 7]\n",
    "    })\n",
    "}\n",
    "\n",
    "# 5.3 Train models using GridSearchCV\n",
    "results = {}\n",
    "for name, (model, param_grid) in models.items():\n",
    "    grid = GridSearchCV(model, param_grid, cv=cv, scoring='accuracy', n_jobs=-1)\n",
    "    grid.fit(X_scaled, y_balanced)  # Use scaled, balanced data from Step 4\n",
    "    results[name] = {\n",
    "        'Best Score': grid.best_score_,\n",
    "        'Best Estimator': grid.best_estimator_,\n",
    "        'Best Params': grid.best_params_\n",
    "    }\n",
    "\n",
    "# Print results\n",
    "for model_name, details in results.items():\n",
    "    print(f\"🔹 {model_name}\")\n",
    "    print(f\"   ✅ Best Accuracy: {details['Best Score']:.4f}\")\n",
    "    print(f\"   📌 Best Parameters: {details['Best Params']}\")\n",
    "    print()"
   ]
  },
  {
   "cell_type": "code",
   "execution_count": 59,
   "id": "d57ef37c-e590-4f25-ac48-06e0250aa326",
   "metadata": {},
   "outputs": [
    {
     "name": "stderr",
     "output_type": "stream",
     "text": [
      "C:\\Users\\Srishti\\AppData\\Roaming\\Python\\Python313\\site-packages\\xgboost\\training.py:183: UserWarning: [18:10:24] WARNING: C:\\actions-runner\\_work\\xgboost\\xgboost\\src\\learner.cc:738: \n",
      "Parameters: { \"use_label_encoder\" } are not used.\n",
      "\n",
      "  bst.update(dtrain, iteration=i, fobj=obj)\n",
      "C:\\Users\\Srishti\\AppData\\Roaming\\Python\\Python313\\site-packages\\xgboost\\training.py:183: UserWarning: [18:10:27] WARNING: C:\\actions-runner\\_work\\xgboost\\xgboost\\src\\learner.cc:738: \n",
      "Parameters: { \"use_label_encoder\" } are not used.\n",
      "\n",
      "  bst.update(dtrain, iteration=i, fobj=obj)\n",
      "C:\\Users\\Srishti\\AppData\\Roaming\\Python\\Python313\\site-packages\\xgboost\\training.py:183: UserWarning: [18:10:29] WARNING: C:\\actions-runner\\_work\\xgboost\\xgboost\\src\\learner.cc:738: \n",
      "Parameters: { \"use_label_encoder\" } are not used.\n",
      "\n",
      "  bst.update(dtrain, iteration=i, fobj=obj)\n",
      "C:\\Users\\Srishti\\AppData\\Roaming\\Python\\Python313\\site-packages\\xgboost\\training.py:183: UserWarning: [18:10:32] WARNING: C:\\actions-runner\\_work\\xgboost\\xgboost\\src\\learner.cc:738: \n",
      "Parameters: { \"use_label_encoder\" } are not used.\n",
      "\n",
      "  bst.update(dtrain, iteration=i, fobj=obj)\n",
      "C:\\Users\\Srishti\\AppData\\Roaming\\Python\\Python313\\site-packages\\xgboost\\training.py:183: UserWarning: [18:10:34] WARNING: C:\\actions-runner\\_work\\xgboost\\xgboost\\src\\learner.cc:738: \n",
      "Parameters: { \"use_label_encoder\" } are not used.\n",
      "\n",
      "  bst.update(dtrain, iteration=i, fobj=obj)\n"
     ]
    },
    {
     "name": "stdout",
     "output_type": "stream",
     "text": [
      "✅ Hard Voting Accuracy (mean of 5-fold CV): 0.9718\n"
     ]
    },
    {
     "name": "stderr",
     "output_type": "stream",
     "text": [
      "C:\\Users\\Srishti\\AppData\\Roaming\\Python\\Python313\\site-packages\\xgboost\\training.py:183: UserWarning: [18:10:36] WARNING: C:\\actions-runner\\_work\\xgboost\\xgboost\\src\\learner.cc:738: \n",
      "Parameters: { \"use_label_encoder\" } are not used.\n",
      "\n",
      "  bst.update(dtrain, iteration=i, fobj=obj)\n",
      "C:\\Users\\Srishti\\AppData\\Roaming\\Python\\Python313\\site-packages\\xgboost\\training.py:183: UserWarning: [18:10:38] WARNING: C:\\actions-runner\\_work\\xgboost\\xgboost\\src\\learner.cc:738: \n",
      "Parameters: { \"use_label_encoder\" } are not used.\n",
      "\n",
      "  bst.update(dtrain, iteration=i, fobj=obj)\n",
      "C:\\Users\\Srishti\\AppData\\Roaming\\Python\\Python313\\site-packages\\xgboost\\training.py:183: UserWarning: [18:10:40] WARNING: C:\\actions-runner\\_work\\xgboost\\xgboost\\src\\learner.cc:738: \n",
      "Parameters: { \"use_label_encoder\" } are not used.\n",
      "\n",
      "  bst.update(dtrain, iteration=i, fobj=obj)\n",
      "C:\\Users\\Srishti\\AppData\\Roaming\\Python\\Python313\\site-packages\\xgboost\\training.py:183: UserWarning: [18:10:43] WARNING: C:\\actions-runner\\_work\\xgboost\\xgboost\\src\\learner.cc:738: \n",
      "Parameters: { \"use_label_encoder\" } are not used.\n",
      "\n",
      "  bst.update(dtrain, iteration=i, fobj=obj)\n",
      "C:\\Users\\Srishti\\AppData\\Roaming\\Python\\Python313\\site-packages\\xgboost\\training.py:183: UserWarning: [18:10:45] WARNING: C:\\actions-runner\\_work\\xgboost\\xgboost\\src\\learner.cc:738: \n",
      "Parameters: { \"use_label_encoder\" } are not used.\n",
      "\n",
      "  bst.update(dtrain, iteration=i, fobj=obj)\n"
     ]
    },
    {
     "name": "stdout",
     "output_type": "stream",
     "text": [
      "✅ Soft Voting Accuracy (mean of 5-fold CV): 0.9706\n",
      "✅ Stacking Accuracy (mean of 5-fold CV): 0.9668\n"
     ]
    }
   ],
   "source": [
    "from sklearn.ensemble import VotingClassifier, StackingClassifier\n",
    "from sklearn.linear_model import LogisticRegression\n",
    "from sklearn.model_selection import cross_val_score\n",
    "\n",
    "# Use the best models from Step 5\n",
    "best_rf = results['RandomForest']['Best Estimator']\n",
    "best_svm = results['SVM']['Best Estimator']\n",
    "best_xgb = results['XGBoost']['Best Estimator']\n",
    "\n",
    "# ------------------------------------------\n",
    "# 6.1 Hard Voting Classifier (majority vote)\n",
    "# ------------------------------------------\n",
    "voting_clf_hard = VotingClassifier(\n",
    "    estimators=[\n",
    "        ('rf', best_rf),\n",
    "        ('svm', best_svm),\n",
    "        ('xgb', best_xgb)\n",
    "    ],\n",
    "    voting='hard'\n",
    ")\n",
    "\n",
    "# Evaluate hard voting\n",
    "hard_scores = cross_val_score(voting_clf_hard, X_scaled, y_balanced, cv=5, scoring='accuracy')\n",
    "print(\"✅ Hard Voting Accuracy (mean of 5-fold CV):\", round(hard_scores.mean(), 4))\n",
    "\n",
    "\n",
    "# ------------------------------------------\n",
    "# 6.2 Soft Voting Classifier (average probabilities)\n",
    "# ------------------------------------------\n",
    "voting_clf_soft = VotingClassifier(\n",
    "    estimators=[\n",
    "        ('rf', best_rf),\n",
    "        ('svm', best_svm),\n",
    "        ('xgb', best_xgb)\n",
    "    ],\n",
    "    voting='soft'\n",
    ")\n",
    "\n",
    "# Evaluate soft voting\n",
    "soft_scores = cross_val_score(voting_clf_soft, X_scaled, y_balanced, cv=5, scoring='accuracy')\n",
    "print(\"✅ Soft Voting Accuracy (mean of 5-fold CV):\", round(soft_scores.mean(), 4))\n",
    "\n",
    "\n",
    "# ------------------------------------------\n",
    "# 6.3 Stacking Classifier\n",
    "# ------------------------------------------\n",
    "stacking_clf = StackingClassifier(\n",
    "    estimators=[\n",
    "        ('rf', best_rf),\n",
    "        ('svm', best_svm)\n",
    "    ],\n",
    "    final_estimator=LogisticRegression(),\n",
    "    cv=5\n",
    ")\n",
    "\n",
    "# Evaluate stacking\n",
    "stack_scores = cross_val_score(stacking_clf, X_scaled, y_balanced, cv=5, scoring='accuracy')\n",
    "print(\"✅ Stacking Accuracy (mean of 5-fold CV):\", round(stack_scores.mean(), 4))"
   ]
  },
  {
   "cell_type": "code",
   "execution_count": 62,
   "id": "8dbed655-ac29-4281-a8f7-70a2fb48c053",
   "metadata": {},
   "outputs": [
    {
     "name": "stderr",
     "output_type": "stream",
     "text": [
      "C:\\Users\\Srishti\\AppData\\Roaming\\Python\\Python313\\site-packages\\xgboost\\training.py:183: UserWarning: [18:12:42] WARNING: C:\\actions-runner\\_work\\xgboost\\xgboost\\src\\learner.cc:738: \n",
      "Parameters: { \"use_label_encoder\" } are not used.\n",
      "\n",
      "  bst.update(dtrain, iteration=i, fobj=obj)\n"
     ]
    },
    {
     "name": "stdout",
     "output_type": "stream",
     "text": [
      "✅ Accuracy: 0.9614\n",
      "✅ Precision: 0.9838\n",
      "✅ Recall: 0.9382\n",
      "✅ F1 Score: 0.9605\n",
      "✅ ROC-AUC Score: 0.9753\n"
     ]
    },
    {
     "data": {
      "image/png": "[encoded data removed]",
      "text/plain": [
       "<Figure size 600x400 with 2 Axes>"
      ]
     },
     "metadata": {},
     "output_type": "display_data"
    },
    {
     "data": {
      "image/png": "[encoded data removed]",
      "text/plain": [
       "<Figure size 600x400 with 1 Axes>"
      ]
     },
     "metadata": {},
     "output_type": "display_data"
    }
   ],
   "source": [
    "from sklearn.model_selection import train_test_split\n",
    "from sklearn.metrics import confusion_matrix, accuracy_score, precision_score, recall_score, f1_score, roc_auc_score, roc_curve\n",
    "import matplotlib.pyplot as plt\n",
    "import seaborn as sns\n",
    "\n",
    "# ---- Choose Best Ensemble Model ----\n",
    "best_ensemble = voting_clf_soft  # or stacking_clf, based on Step 6 results\n",
    "\n",
    "# ---- Train/Test Split ----\n",
    "X_train, X_test, y_train, y_test = train_test_split(X_scaled, y_balanced, test_size=0.2, random_state=42, stratify=y_balanced)\n",
    "\n",
    "# ---- Fit & Predict ----\n",
    "best_ensemble.fit(X_train, y_train)\n",
    "y_pred = best_ensemble.predict(X_test)\n",
    "y_proba = best_ensemble.predict_proba(X_test)[:, 1]\n",
    "\n",
    "# ---- Evaluation Metrics ----\n",
    "acc = accuracy_score(y_test, y_pred)\n",
    "prec = precision_score(y_test, y_pred)\n",
    "rec = recall_score(y_test, y_pred)\n",
    "f1 = f1_score(y_test, y_pred)\n",
    "roc_auc = roc_auc_score(y_test, y_proba)\n",
    "\n",
    "print(\"✅ Accuracy:\", round(acc, 4))\n",
    "print(\"✅ Precision:\", round(prec, 4))\n",
    "print(\"✅ Recall:\", round(rec, 4))\n",
    "print(\"✅ F1 Score:\", round(f1, 4))\n",
    "print(\"✅ ROC-AUC Score:\", round(roc_auc, 4))\n",
    "\n",
    "# ---- Confusion Matrix ----\n",
    "cm = confusion_matrix(y_test, y_pred)\n",
    "plt.figure(figsize=(6, 4))\n",
    "sns.heatmap(cm, annot=True, fmt='d', cmap='Blues', xticklabels=['Normal', 'MI'], yticklabels=['Normal', 'MI'])\n",
    "plt.xlabel('Predicted')\n",
    "plt.ylabel('True')\n",
    "plt.title(\"Confusion Matrix\")\n",
    "plt.show()\n",
    "\n",
    "# ---- ROC Curve ----\n",
    "fpr, tpr, _ = roc_curve(y_test, y_proba)\n",
    "plt.figure(figsize=(6, 4))\n",
    "plt.plot(fpr, tpr, label=f'ROC Curve (AUC = {roc_auc:.2f})', color='darkorange')\n",
    "plt.plot([0, 1], [0, 1], 'k--')\n",
    "plt.xlabel('False Positive Rate')\n",
    "plt.ylabel('True Positive Rate')\n",
    "plt.title(\"ROC Curve\")\n",
    "plt.legend(loc='lower right')\n",
    "plt.show()"
   ]
  },
  {
   "cell_type": "code",
   "execution_count": 64,
   "id": "7ab0065b-4f66-4a56-b5d0-8b9e52bb4b2a",
   "metadata": {},
   "outputs": [
    {
     "name": "stderr",
     "output_type": "stream",
     "text": [
      " 98%|===================| 1019/1036 [00:38<00:00]       "
     ]
    },
    {
     "data": {
      "image/png": "[encoded data removed]",
      "text/plain": [
       "<Figure size 1150x660 with 2 Axes>"
      ]
     },
     "metadata": {},
     "output_type": "display_data"
    }
   ],
   "source": [
    "import shap\n",
    "\n",
    "# Use XGBoost or Random Forest for SHAP explanations\n",
    "model = RandomForestClassifier(n_estimators=200, max_depth=10, random_state=42)\n",
    "model.fit(X_train, y_train)\n",
    "\n",
    "# Initialize SHAP explainer\n",
    "explainer = shap.Explainer(model, X_train)\n",
    "shap_values = explainer(X_test)\n",
    "\n",
    "# Summary plot (shows overall feature importance)\n",
    "shap.summary_plot(shap_values, X_test, feature_names=[\n",
    "    'Mean', 'Std', 'Skew', 'Kurtosis', 'RMS',\n",
    "    'FFT1','FFT2','FFT3','FFT4','FFT5','FFT6','FFT7','FFT8','FFT9','FFT10',\n",
    "    'PSD_Mean', 'PSD_Max'\n",
    "])"
   ]
  },
  {
   "cell_type": "code",
   "execution_count": 66,
   "id": "e2bc22b8-6662-46d3-9a1a-75529f3d1329",
   "metadata": {},
   "outputs": [
    {
     "name": "stdout",
     "output_type": "stream",
     "text": [
      "✅ Accuracy on original test set: 0.9614\n",
      "🧪 Accuracy on noisy test set: 0.9402\n",
      "📉 Accuracy drop due to noise: 0.0212\n"
     ]
    }
   ],
   "source": [
    "import numpy as np\n",
    "from sklearn.metrics import accuracy_score\n",
    "\n",
    "# Add Gaussian noise to test features\n",
    "X_test_noisy = X_test + np.random.normal(0, 0.05, X_test.shape)\n",
    "\n",
    "# Predict on noisy data\n",
    "y_pred_noisy = best_ensemble.predict(X_test_noisy)\n",
    "\n",
    "# Compare performance\n",
    "acc_clean = accuracy_score(y_test, y_pred)\n",
    "acc_noisy = accuracy_score(y_test, y_pred_noisy)\n",
    "\n",
    "print(\"✅ Accuracy on original test set:\", round(acc_clean, 4))\n",
    "print(\"🧪 Accuracy on noisy test set:\", round(acc_noisy, 4))\n",
    "print(\"📉 Accuracy drop due to noise:\", round(acc_clean - acc_noisy, 4))"
   ]
  },
  {
   "cell_type": "code",
   "execution_count": null,
   "id": "31fe6924-9f13-44a4-954a-d90663496231",
   "metadata": {},
   "outputs": [],
   "source": []
  }
 ],
 "metadata": {
  "kernelspec": {
   "display_name": "Python 3 (ipykernel)",
   "language": "python",
   "name": "python3"
  },
  "language_info": {
   "codemirror_mode": {
    "name": "ipython",
    "version": 3
   },
   "file_extension": ".py",
   "mimetype": "text/x-python",
   "name": "python",
   "nbconvert_exporter": "python",
   "pygments_lexer": "ipython3",
   "version": "3.13.3"
  }
 },
 "nbformat": 4,
 "nbformat_minor": 5
}
